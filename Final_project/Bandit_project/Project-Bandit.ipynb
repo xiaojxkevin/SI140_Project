{
 "cells": [
  {
   "attachments": {},
   "cell_type": "markdown",
   "metadata": {},
   "source": [
    "# Project: Performance Evaluation of Bandit Algorithms\n",
    "\n",
    "- In this project, you will implement several classical bandit algorithms, evluate their performance via numerical comparison and finally gain inspiring intuition."
   ]
  },
  {
   "attachments": {},
   "cell_type": "markdown",
   "metadata": {},
   "source": [
    "## Part I: Classical Bandit Algorithms\n",
    "\n",
    "We consider a time-slotted bandit system ($t=1,2,\\ldots$) with three arms.\n",
    "We denote the arm set as $\\{1,2,3\\}$.\n",
    "Pulling each arm $j$ ($ j \\in \\{1,2,3\\}$) will obtain a random reward $r_{j}$, which follows a Bernoulli distribution with mean $\\theta_{j}$, *i.e.*, Bern($\\theta_{j}$).\n",
    "Specifically,\n",
    "\n",
    "\\begin{equation*}\n",
    "\t\\begin{aligned}\n",
    "\t\tr_{j} = \n",
    "\t\t\\begin{cases}\n",
    "\t\t\t1, & w.p.\\ \\theta_{j}, \\\\\n",
    "\t\t\t0, & w.p.\\ 1-\\theta_{j},\t\t\t\n",
    "\t\t\\end{cases}\n",
    "\t\\end{aligned}\n",
    "\\end{equation*}\n",
    "where $\\theta_{j}, j \\in\\{1,2,3\\}$ are parameters within $(0,1)$.\n",
    "  \n",
    "Now we run this bandit system for $N$ ($N \\gg 3$) time slots.\n",
    "In each time slot $t$, we choose one and only one arm from these three arms, which we denote as $I(t) \\in \\{1,2,3\\}$.\n",
    "Then we pull the arm $I(t)$ and obtain a random reward $r_{I(t)}$.\n",
    "Our objective is to find an optimal policy to choose an arm $I(t)$ in each time slot $t$ such that the expectation of the aggregated reward over $N$ time slots is maximized, *i.e.*,\n",
    "\n",
    "\\begin{equation*}\n",
    "\t\\begin{aligned}\n",
    "\t\t\\max_{I(t),t = 1,\\dots,N} \\ \\  \\mathbb{E}\\left[\\sum_{t=1}^{N} r_{I(t)} \\right].\n",
    "\t\\end{aligned}  \t\n",
    "\\end{equation*}\n",
    "\n",
    "If we know the values of $\\theta_{j},j \\in \\{1,2,3\\}$, this problem is trivial.\n",
    "Since $r_{I(t)} \\sim \\text{Bern}(\\theta_{I(t)})$,\n",
    "\n",
    "\\begin{equation*}\n",
    "\t\\begin{aligned}\n",
    "\t\t\\mathbb{E}\\left[\\sum_{t=1}^N r_{I(t)} \\right] \n",
    "\t\t= \\sum_{t=1}^{N} \\mathbb{E}[r_{I(t)}] \n",
    "\t\t= \\sum_{t=1}^N \\theta_{I(t)}.\n",
    "\t\\end{aligned} \t\n",
    "\\end{equation*}\n",
    "\n",
    "Let $I(t) = I^{*} = \\mathop{\\arg \\max}\\limits_{ j \\in \\{1,2,3\\}} \\ \\theta_j$ for $t=1,2,\\ldots,N$, then \n",
    "\n",
    "\\begin{equation*}\n",
    "\t\\begin{aligned}\n",
    "\t\t\\max_{I(t),t=1,\\ldots,N} \\ \\  \\mathbb{E}\\left[\\sum_{t=1}^N r_{I(t)} \\right] = N \\cdot \\theta_{I^*}.\n",
    "\t\\end{aligned} \t\n",
    "\\end{equation*}\n",
    "\n",
    "However, in reality, we do not know the values of $\\theta_{j},j \\in \\{1,2,3\\}$.\n",
    "We need to estimate the values $\\theta_{j}, j \\in \\{1,2,3\\}$ via empirical samples, and then make the decisions in each time slot. \n",
    "Next we introduce three classical bandit algorithms: $\\epsilon$-greedy, UCB, and TS, respectively."
   ]
  },
  {
   "attachments": {},
   "cell_type": "markdown",
   "metadata": {},
   "source": [
    "### $\\epsilon$-greedy Algorithm ($0 \\leq \\epsilon \\leq 1$)\n",
    "<img src=\"figures/e-greedy.jpg\" width=\"50%\" align='left'>"
   ]
  },
  {
   "attachments": {},
   "cell_type": "markdown",
   "metadata": {},
   "source": [
    "### UCB (Upper Confidence Bound) Algorithm\n",
    "<img src=\"figures/UCB.jpg\" width=\"50%\" align='left'>"
   ]
  },
  {
   "attachments": {},
   "cell_type": "markdown",
   "metadata": {},
   "source": [
    "### TS (Thompson Sampling) Algorithm\n",
    "<img src=\"figures/TS.jpg\" width=\"50%\" align='left'>"
   ]
  },
  {
   "attachments": {},
   "cell_type": "markdown",
   "metadata": {},
   "source": [
    "### Problem 1.1"
   ]
  },
  {
   "attachments": {},
   "cell_type": "markdown",
   "metadata": {},
   "source": [
    "#### Problem State\n",
    "1. Now suppose we obtain the parameters of the Bernoulli distributions from an oracle, which are shown in the following table. Choose $N=5000$ and compute the theoretically maximized expectation of aggregate rewards over $N$ time slots. We call it the oracle value. Note that these parameters $\\theta_{j}, j \\in \\{1,2,3\\}$ and oracle values are unknown to all bandit algorithms.\n",
    "\n",
    "| Arm $j$ | 1   | 2   | 3   |\n",
    "|---------|-----|-----|-----|\n",
    "| $\\theta_j$ | 0.7 | 0.5 | 0.4 |"
   ]
  },
  {
   "attachments": {},
   "cell_type": "markdown",
   "metadata": {},
   "source": [
    "#### Solution\n",
    "Since the value of $\\theta_j$ is given, then we just have to choose the Arm 1 for we have a probability of getting reward to $0.7$, which is the maximum value among the three arms. Thus, the expectation of aggregate rewards over $5000$ slots would be \n",
    "$$N\\cdot \\theta_1 = 0.7 \\cdot 5000 = 3500 $$"
   ]
  },
  {
   "attachments": {},
   "cell_type": "markdown",
   "metadata": {},
   "source": [
    "### Problem 1.2"
   ]
  },
  {
   "attachments": {},
   "cell_type": "markdown",
   "metadata": {},
   "source": [
    "#### Problem State\n",
    "2. Implement aforemented three classical bandit algorithms with following settings: \n",
    "   \n",
    "\t- $N=5000$\n",
    "\t- $\\epsilon$-greedy with $\\epsilon \\in \\{0.1, 0.5, 0.9\\}$.\n",
    "\t- UCB with $c \\in \\{1,5,10\\}$.\n",
    "\t- TS with\n",
    "    \t- $\\left\\{(\\alpha_1,\\beta_1)=(1,1),(\\alpha_2,\\beta_2)=(1,1),(\\alpha_3,\\beta_3)=(1,1)\\right\\}$ \n",
    "    \t- $\\left\\{(\\alpha_1,\\beta_1)=(601,401),(\\alpha_2,\\beta_2)=(401,601),(\\alpha_3,\\beta_3)=(2,3)\\right\\}$"
   ]
  },
  {
   "attachments": {},
   "cell_type": "markdown",
   "metadata": {},
   "source": [
    "#### Solution"
   ]
  },
  {
   "cell_type": "code",
   "execution_count": 9,
   "metadata": {},
   "outputs": [],
   "source": [
    "%matplotlib inline\n",
    "import matplotlib.pyplot as plt\n",
    "import numpy as np\n",
    "import random, math, copy\n",
    "### Import more packages if you need"
   ]
  },
  {
   "cell_type": "code",
   "execution_count": 10,
   "metadata": {},
   "outputs": [],
   "source": [
    "### Implementation of epsilon-Greedy:\n",
    "### n is the number of time slots, epsilon is the parameter of the algorithm\n",
    "### return the total reward\n",
    "def greedy(n, epsilon) -> tuple[int, np.ndarray, int]:\n",
    "    theta = np.array([0.7, 0.5, 0.4], dtype=float)   # used to generate rewards\n",
    "    theta_guess = np.array([0, 0, 0], dtype=float)  #initilize the vector we will adjust\n",
    "    count = np.array([0, 0, 0], dtype=int)  #init\n",
    "    total_r = 0   # this the sum of all rewards\n",
    "    regrets = 0\n",
    "    for t in range(0, n):\n",
    "        choice = np.random.uniform(0, 1)    # used to choose I(t)\n",
    "        # arm is I(t)\n",
    "        arm = np.argmax(theta_guess) if choice > epsilon else np.random.choice([0, 1, 2])\n",
    "        count[arm] += 1\n",
    "        r = np.random.binomial(1, theta[arm])   # generate the reward\n",
    "        theta_guess[arm] += 1 / count[arm] * (r - theta_guess[arm])\n",
    "        total_r += r\n",
    "        regrets += 0.7 - theta[arm]\n",
    "    return total_r, theta_guess, regrets"
   ]
  },
  {
   "cell_type": "code",
   "execution_count": 11,
   "metadata": {},
   "outputs": [],
   "source": [
    "### Implementation of UCB Algorithm:\n",
    "### n is the number of time slots, c is the parameter of the algorithm\n",
    "### return the total reward\n",
    "def UCB(n, c) -> tuple[int, np.ndarray, int]:\n",
    "    theta = np.array([0.7, 0.5, 0.4], dtype=float)  # used to generate rewards\n",
    "    theta_guess = np.array([0, 0, 0], dtype=float)\n",
    "    for i in range(3):\n",
    "        theta_guess[i] = np.random.binomial(1, theta[i])    # initilize the thetas\n",
    "    count = np.array([1, 1, 1], dtype=int)\n",
    "    total_r = 0 \n",
    "    regrets = 0\n",
    "    for t in range(4, n+1):\n",
    "        # arm is the I(t)\n",
    "        arm = np.argmax(theta_guess + c * np.sqrt(2 * np.log(t) / count))\n",
    "        count[arm] += 1\n",
    "        r = np.random.binomial(1, theta[arm])   # reward\n",
    "        theta_guess[arm] += 1 / count[arm] * (r - theta_guess[arm])\n",
    "        total_r += r\n",
    "        regrets += 0.7 - theta[arm]\n",
    "    return total_r, theta_guess, regrets"
   ]
  },
  {
   "cell_type": "code",
   "execution_count": 12,
   "metadata": {},
   "outputs": [],
   "source": [
    "### Implementation of TS Algorithm\n",
    "### n is the number of time slots, a and b are the parameters of the algorithm\n",
    "### return the total reward\n",
    "\n",
    "# a = [a1, a2, a3] and b = [b1, b2, b3]\n",
    "def TS(n, a, b) -> tuple[int, np.ndarray, int]:\n",
    "    theta = np.array([0.7, 0.5, 0.4], dtype=float)\n",
    "    beta = np.array([(a[0], b[0]), (a[1], b[1]), (a[2], b[2])], dtype=int)\n",
    "    total_r = 0\n",
    "    regrets = 0\n",
    "    for _ in range(0, n):\n",
    "        # use this vector to store the expectation of beta distributions\n",
    "        E_theta = np.array([0, 0, 0], dtype=float)  \n",
    "        for j in range(3):\n",
    "            E_theta[j] = np.random.beta(beta[j][0], beta[j][1])\n",
    "        arm = np.argmax(E_theta)\n",
    "        r = np.random.binomial(1, theta[arm]) # reward\n",
    "        beta[arm][0] += r\n",
    "        beta[arm][1] += 1- r\n",
    "        total_r += r\n",
    "        regrets += 0.7 - theta[arm]\n",
    "    return total_r, beta, regrets"
   ]
  },
  {
   "attachments": {},
   "cell_type": "markdown",
   "metadata": {},
   "source": [
    "### Problem 1.3"
   ]
  },
  {
   "attachments": {},
   "cell_type": "markdown",
   "metadata": {},
   "source": [
    "#### Problem State\n",
    "3. Regard each of the above setting in problem 2 of Part I as an experiment (in total $8$ experiments).\n",
    "Run each experiment $200$ independent trials (change the random seed).\n",
    "Plot the final result (in terms of rewards and regrets) averaged over these $200$ trials."
   ]
  },
  {
   "attachments": {},
   "cell_type": "markdown",
   "metadata": {},
   "source": [
    "#### Solution"
   ]
  },
  {
   "cell_type": "code",
   "execution_count": 13,
   "metadata": {},
   "outputs": [],
   "source": [
    "num_trials = 200"
   ]
  },
  {
   "cell_type": "code",
   "execution_count": 14,
   "metadata": {},
   "outputs": [
    {
     "name": "stdout",
     "output_type": "stream",
     "text": [
      "When epsilon = 0.1, the averaged reward is 3413.460000, regrets are 87.79649999999997, thetas are [0.70008808 0.49858359 0.40410354]\n",
      "When epsilon = 0.5, the averaged reward is 3078.005000, regrets are 417.4049999999996, thetas are [0.69959206 0.49868574 0.39734867]\n",
      "When epsilon = 0.9, the averaged reward is 2752.480000, regrets are 750.0660000000003, thetas are [0.70069123 0.50067074 0.40011552]\n"
     ]
    }
   ],
   "source": [
    "## greedy\n",
    "epsilons = [0.1, 0.5, 0.9]\n",
    "total_rs = np.array([0, 0, 0], dtype=int)\n",
    "thetas = np.zeros([3, 3], dtype=float) \n",
    "regrets = np.zeros(3, dtype=float)\n",
    "for k in range(3):\n",
    "    for i in range(num_trials):\n",
    "        r, theta, regret = greedy(5000, epsilons[k])\n",
    "        total_rs[k] += r\n",
    "        thetas[k] += theta\n",
    "        regrets[k] += regret\n",
    "greedy_rewards = total_rs / num_trials\n",
    "greedy_thetas = thetas / num_trials\n",
    "greedy_regrets = regrets / num_trials\n",
    "for i in range(3):\n",
    "    print(\"When epsilon = {}, the averaged reward is {:.6f}, regrets are {}, thetas are {}\" .format(epsilons[i], greedy_rewards[i], greedy_regrets[i], greedy_thetas[i]))"
   ]
  },
  {
   "cell_type": "code",
   "execution_count": 16,
   "metadata": {},
   "outputs": [
    {
     "name": "stdout",
     "output_type": "stream",
     "text": [
      "When c = 1, the averaged reward is 3404.850000, regrets are 89.62200000000021, thetas are [0.69918761 0.49077856 0.39214155]\n",
      "When c = 5, the averaged reward is 2974.755000, regrets are 520.5269999999974, thetas are [0.69883478 0.49923396 0.40025283]\n",
      "When c = 10, the averaged reward is 2827.670000, regrets are 673.1350000000022, thetas are [0.69976454 0.50149046 0.4001515 ]\n"
     ]
    }
   ],
   "source": [
    "## UCB\n",
    "c = [1, 5, 10]\n",
    "total_rs = np.array([0, 0, 0], dtype=int)\n",
    "thetas = np.zeros([3, 3], dtype=float) \n",
    "regrets = np.zeros(3, dtype=float)\n",
    "for k in range(3):\n",
    "    for i in range(num_trials):\n",
    "        r, theta, regret = UCB(5000, c[k])\n",
    "        total_rs[k] += r\n",
    "        thetas[k] += theta\n",
    "        regrets[k] += regret\n",
    "ucb_rewards = total_rs / num_trials\n",
    "ucb_thetas = thetas / num_trials\n",
    "ucb_regrets = regrets / num_trials\n",
    "for i in range(3):\n",
    "    print(\"When c = {}, the averaged reward is {:.6f}, regrets are {}, thetas are {}\" .format(c[i], ucb_rewards[i], ucb_regrets[i], ucb_thetas[i]))"
   ]
  },
  {
   "cell_type": "code",
   "execution_count": 17,
   "metadata": {},
   "outputs": [
    {
     "name": "stdout",
     "output_type": "stream",
     "text": [
      "When (a1,b1) = (1,1), (a2,b2) = (1,1), (a3,b3) = (1,1), the total reward is 3479.5450, regrets are 19.203499999999984, \n",
      " the thetas are [0.69946896 0.51301537 0.4142539 ]\n",
      "When (a1,b1) = (601,401), (a2,b2) = (401,601), (a3,b3) = (2,3), the total reward is 3492.9500, regrets are 8.007000000000003, \n",
      " the thetas are [0.68340387 0.4001996  0.39129063]\n"
     ]
    }
   ],
   "source": [
    "## Thompson\n",
    "a = np.array([[1, 1, 1], [601, 401, 2]])\n",
    "b = np.array([[1, 1, 1], [401, 601, 3]])\n",
    "total_rs = np.array([0, 0], dtype=int)\n",
    "betas = np.zeros([2, 3, 2], dtype=float)\n",
    "regrets = np.zeros(2, dtype=float)\n",
    "for k in range(2):\n",
    "    for i in range(num_trials):\n",
    "        r, beta, regret = TS(5000, a[k], b[k])\n",
    "        total_rs[k] += r\n",
    "        betas[k] += beta\n",
    "        regrets[k] += regret \n",
    "ts_rewards = total_rs / num_trials\n",
    "ts_betas = betas / num_trials\n",
    "ts_thetas = np.zeros([2, 3], dtype=float)\n",
    "ts_regrets = regrets / num_trials\n",
    "for i in range(2):\n",
    "    for j in range(3):\n",
    "        ts_thetas[i][j] = ts_betas[i][j][0] / (ts_betas[i][j][0] + ts_betas[i][j][1])\n",
    "print(\"When (a1,b1) = (1,1), (a2,b2) = (1,1), (a3,b3) = (1,1), the total reward is {:.4f}, regrets are {}, \\n the thetas are {}\" \n",
    "      .format(ts_rewards[0], ts_regrets[0], ts_thetas[0]))\n",
    "print(\"When (a1,b1) = (601,401), (a2,b2) = (401,601), (a3,b3) = (2,3), the total reward is {:.4f}, regrets are {}, \\n the thetas are {}\" \n",
    "      .format(ts_rewards[1], ts_regrets[1], ts_thetas[1]))"
   ]
  },
  {
   "attachments": {},
   "cell_type": "markdown",
   "metadata": {},
   "source": [
    "### Problem 1.4"
   ]
  },
  {
   "attachments": {},
   "cell_type": "markdown",
   "metadata": {},
   "source": [
    "#### Problem State\n",
    "4. Compute the gaps between the algorithm outputs (aggregated rewards over $N$ time slots) and the oracle value. Compare the numerical results of $\\epsilon$-greedy, UCB, and TS.\n",
    "   - Which one is the best?\n",
    "   - Discuss the impacts of $\\epsilon$, $c$, and $\\alpha_{j}$, $\\beta_{j}$, respectively. "
   ]
  },
  {
   "attachments": {},
   "cell_type": "markdown",
   "metadata": {},
   "source": [
    "#### Solution"
   ]
  },
  {
   "attachments": {},
   "cell_type": "markdown",
   "metadata": {},
   "source": [
    "The gaps are quite easy to obtain:\n",
    "|Settings      | Reward Gap      | $\\theta_1$ Gap |$\\theta_2$ Gap|$\\theta_3$ Gap|\n",
    "|--------------|:---------------:|:--------------:|:------------:|-------------:|\n",
    "|$\\epsilon=0.1$| 89.2            | 0.00074943     |-0.00398228   | -0.00545734  |\n",
    "|$\\epsilon=0.5$| 417.725         | -0.00071584    |-0.00012465   | 0.00222336   |\n",
    "|$\\epsilon=0.9$| 751.9           | 0.00061599     | 0.00095699   | -0.00079044  |\n",
    "|   c = 1      | 90.17           | -1.49749088e-04|8.79916381e-03|7.11603307e-03|\n",
    "|   c = 5      | 517.555         | -5.47594480e-04|5.49262149e-05|-6.37483779e-04|\n",
    "|   c = 10     | 673.855         | -1.48195648e-04|-9.10170094e-05|7.04447122e-04|\n",
    "|[(1,1),(1,1),(1,1)]| 18.6       | 0.00018419     |-0.00884486   |-0.01106155   |\n",
    "|[(601,401),(401,601),(2,3)]|10.6| 0.01716786     |0.0998004     |0.00431985    |"
   ]
  },
  {
   "attachments": {},
   "cell_type": "markdown",
   "metadata": {},
   "source": [
    "We can see that **TS** is the best algorithm in this certain situation. And we below are some explanaitons:\n",
    "\n",
    "1. Greedy: The interval for $\\epsilon$ is $[0, 1]$, so we can find the relation between its value and the averaged total rewards, results are shown in Figure 1. We can clearly see that as $\\epsilon$ increases, the averaged total rewards decrease\n",
    "2. UCB: We set the value of c from 0 to 100(c is an integer), the results are shown in Figure 2. When c increases, the averaged total rewards decrease\n",
    "3. TS: Recall that we have initialized the pair $(\\alpha_j,\\beta_j)$ as the prior, and we can assume that for each $j$, we have done $\\alpha_j+\\beta_j$ trials with $\\alpha_j$ times rewards being 1. Thus, if we set the prior whose expectation($\\alpha_j/(\\alpha_j+\\beta_j)$) is closer to the real $\\theta_j$, the total reward woulde be closer to the analytic maximum. For instance, if the initial pair is $[(7,3),(5,5),(4,6)]$, the gap could be less than 5. Also, notice that when $\\alpha_j$ or $\\beta_j$ is really large, then according to conjugacy, the expectation will change little(the posterior distribution also changes little), then, pair $[(700, 300),(500, 500), (400, 600)]$ can achieve a even more stable and better result."
   ]
  },
  {
   "cell_type": "code",
   "execution_count": null,
   "metadata": {},
   "outputs": [
    {
     "data": {
      "image/png": "[encoded data removed]",
      "text/plain": [
       "<Figure size 1100x900 with 2 Axes>"
      ]
     },
     "metadata": {},
     "output_type": "display_data"
    }
   ],
   "source": [
    "# PLOT\n",
    "## greedy -> epsilons\n",
    "epsilons = np.linspace(0, 1, 100)\n",
    "total_rs = np.zeros(100, dtype=int)\n",
    "for k in range(100):\n",
    "    for i in range(100):\n",
    "        r, theta = greedy(200, epsilons[k])\n",
    "        total_rs[k] += r\n",
    "greedy_rewards = total_rs / 100\n",
    "\n",
    "## UCB -> c\n",
    "c = np.linspace(0, 100, 100)\n",
    "total_rs = np.zeros(100, dtype=int)\n",
    "thetas = np.zeros([100, 3], dtype=float) \n",
    "for k in range(100):\n",
    "    for i in range(100):\n",
    "        r, theta = UCB(200, c[k])\n",
    "        total_rs[k] += r\n",
    "        thetas[k] += theta\n",
    "ucb_rewards = total_rs / 100\n",
    "\n",
    "fig = plt.figure()\n",
    "fig.set_size_inches(11, 9)\n",
    "plt.subplot(2, 1, 1)\n",
    "plt.plot(epsilons, greedy_rewards, scalex=3, scaley=12)\n",
    "plt.grid(visible=True)\n",
    "plt.title(\"Figure 1: The average greedy rewards of 100 trials of 200 time slots\")\n",
    "plt.xlabel(\"Epsilon from 0.00 to 1.00 with step 0.01\")\n",
    "plt.ylabel(\"Average rewards\")\n",
    "\n",
    "plt.subplot(2, 1, 2)\n",
    "plt.plot(c, ucb_rewards, scalex=5, scaley=10)\n",
    "plt.grid(visible=True)\n",
    "plt.title(\"Figure 2: The average UCB rewards of 100 trials of 200 time slots\")\n",
    "plt.xlabel(\"Epsilon from 0 to 100 with step 1\")\n",
    "plt.ylabel(\"Average rewards\")\n",
    "plt.show()"
   ]
  },
  {
   "attachments": {},
   "cell_type": "markdown",
   "metadata": {},
   "source": [
    "### Problem 1.5"
   ]
  },
  {
   "attachments": {},
   "cell_type": "markdown",
   "metadata": {},
   "source": [
    "#### Problem State\n",
    "5. Give your understanding of the exploration-exploitation trade-off in bandit algorithms."
   ]
  },
  {
   "attachments": {},
   "cell_type": "markdown",
   "metadata": {},
   "source": [
    "#### Solution\n",
    "1. Exploration means that we want to try something new and to obtain more information, while exploitation means we stick to current plan and make full use of the information we have. And they are all correlated with the belief(information) of the current situation. It is similar to find the maximum value of a function that we do not know its analytic expression: exploitation is the local maximum, and exploration is to find the global maximum. However, if we stick to the local maximum, we may miss the global one. On the other hand, if we always want to find the global maximum, we may not get what we want, especially if the source is limited, it is simply a waste of time and effort.\n",
    "2. Algorithm-Analysis:\n",
    "    1. $\\epsilon$ represent the choice between exploration and exploitation, when $\\epsilon$ becomes larger, we have more “exploration” trials. Since in every time slot $t$, we all have the same probability to do some exploration, thus, the exploration and exploitation stages are interacted, the strategy is rather trivial.\n",
    "    2. c controls the uncertainty and the possible upper bound. In UCB, if arm 2 is chosen only for fews times while arm 1 is chosen for many times, then this condition gives the exploration for arm 2(the arm that we choose for few time or the arm we do not understand enough) more meaning in the whole game. When t is large, $c\\sqrt(\\log(t)/count(j))$ will not effect the comparation of the $\\theta$, which means natrually leads to more expoitation.\n",
    "    3. Like what is explained in problem 1.4, adjusting the prior is the process of both exploration and exploitation, with a prior more close to real oracle values and a larger base, the outcome will be better. And if we look closer at TS with the prior $[(601,401),(401,601),(2,3)]$, we can find that its esitmate for oracle values are really bad. It is because that it sacrifices the chance of obtaining the orcale information to achieve a higher reward instead. Or we can think that it has a few exploration stage, because it believes it has found the global maximum: to pull arm 1. Then it will make full use of the exploitation."
   ]
  },
  {
   "attachments": {},
   "cell_type": "markdown",
   "metadata": {},
   "source": [
    "### Problem 1.6"
   ]
  },
  {
   "attachments": {},
   "cell_type": "markdown",
   "metadata": {},
   "source": [
    "#### Problem State\n",
    "6. We implicitly assume the reward distribution of these three arms are independent. How about the dependent case?\n",
    "\tCan you design an algorithm to exploit such information to obtain a better result?"
   ]
  },
  {
   "attachments": {},
   "cell_type": "markdown",
   "metadata": {},
   "source": [
    "#### Solution\n",
    "1. The first thing that comes to mind is to define what is \"dependent\". We think of using a Indicator to define the event:\n",
    "    $$I_j = \\begin{cases} 1, & \\text{arm j gives reward 1} \\\\ 0, & \\text{otherwise} \\end{cases}$$\n",
    "    and then use **Bayes Rules** to find the correlation between them. However, it is difficult to implement in practical, since this kind of dependence is ***time-related***: the current outcome may have an impact on the later one, as a result, we may have to introduce another r.v. $t$ to denote time. And in every time slot, we can only obtain the information of a single arm, it would be extremely difficult to infer the underlying correlations.\n",
    "2. The second thing that comes to mind would be **MVN**. It is that when the $Corr(...) = 0$, then they are surely independent. Then we can regard the three distribution as r.v.s that is distributed as  $\\mathcal{N}(\\mu_j, \\sigma_j^2)$. Then by **Normal conjugacy**, we just need to adjust $\\mu_j$ to its real value and make $\\sigma$ close to 0. However, the most difficult part is to adjust those two parameters, because the relation between Normal and Bionomial is not that strong, it is hard to find the physical connection.\n",
    "3. We then search the Internet and find a paper named [Multi-armed Bandit Problems with Dependent Arms](https://citeseerx.ist.psu.edu/document?repid=rep1&type=pdf&doi=ec2447e5bab9a5e7738c17d831404b238b11fe45) which uses MDP. To be honest, it is hard to understand what they are doing. But what is important is that they are introducing **clusters** to simplify the process, which is a good choice to try.\n",
    "4. At last, based on that TS is the best algorithm, we do some simple improvement on it. Consider the following situation: \n",
    "   ```\n",
    "    The oracle values are fixed as [0.65, 0.54, 0.45]\n",
    "    At any time slot, if we pull arm j, its oracle value will multiple 0.9, while we randomly  choose another arm except j to multiple 1.1\n",
    "    The interval for oracle values are [0.3, 0.7]\n",
    "   ```\n",
    "   There is a key point in the three algorithms: in most of the time, it will choose the arm which has the **maximum** oracle value. But such case, the oracle values are changing fast, we can't always choose the largest one. Thus, we have to do some adjustments.\n",
    "   1. We add a vector `count` to denote the times of the arm being pulled\n",
    "   2. When find the max $\\hat{\\theta_j}$, we will subtract somethind(c is a constant):\n",
    "        ```python\n",
    "        E_theta[j] = np.random.beta(beta[j][0], beta[j][1]) - c * count[j] / t\n",
    "        ```\n",
    "   3. When adjusting the parameters of the beta distribution, we will multiple 2.\n",
    "The code is given below. Where we set beta and constant c to be $[(1,1),(1,1),(1,1)]$ and $0.7$. \n",
    "\n",
    "    The key adjustment is to record the times the arm is pulled. If the arms are dependent, we have to let the algorithm do more `explorations`, and this is why we introduce the constant c and all others."
   ]
  },
  {
   "cell_type": "code",
   "execution_count": null,
   "metadata": {},
   "outputs": [],
   "source": [
    "# New algorithm under the new situation\n",
    "def real_life(n:int, a:np.ndarray, b:np.ndarray, c:int) -> int:\n",
    "    '''\n",
    "    The real-life method\n",
    "    n is the time slot\n",
    "    a and b are the coefficients for beta distribution\n",
    "    c is a constant \n",
    "    we will return the total reward\n",
    "    '''\n",
    "    theta = np.array([0.65, 0.54, 0.45], dtype=float)\n",
    "    beta = np.array([(a[0], b[0]), (a[1], b[1]), (a[2], b[2])], dtype=int)\n",
    "    total_r = 0\n",
    "    count = np.zeros(3, dtype=int)\n",
    "    for t in range(1, n+1):\n",
    "        # use this vector to store the expectation of beta distributions\n",
    "        E_theta = np.array([0, 0, 0], dtype=float)  \n",
    "        for j in range(3):\n",
    "            E_theta[j] = np.random.beta(beta[j][0], beta[j][1]) - c * count[j] / t\n",
    "        arm = np.argmax(E_theta)\n",
    "        r = np.random.binomial(1, theta[arm]) # reward\n",
    "        beta[arm][0] += 2 * r\n",
    "        beta[arm][1] += 2 * (1 - r)\n",
    "        total_r += r\n",
    "        count[arm] += 1\n",
    "        ### the new rules\n",
    "        theta[arm] = theta[arm] * 0.9 if theta[arm] * 0.9 >= 0.3 else 0.3\n",
    "        evict = np.random.choice(np.delete(np.array([0, 1, 2]), arm))\n",
    "        theta[evict] = theta[evict] * 1.1 if theta[evict] * 1.1 <= 0.7 else 0.7\n",
    "    return total_r\n",
    "\n",
    "def TS(n, a, b) -> int:\n",
    "    theta = np.array([0.65, 0.54, 0.45], dtype=float)\n",
    "    beta = np.array([(a[0], b[0]), (a[1], b[1]), (a[2], b[2])], dtype=int)\n",
    "    total_r = 0\n",
    "    for t in range(0, n):\n",
    "        # use this vector to store the expectation of beta distributions\n",
    "        E_theta = np.array([0, 0, 0], dtype=float)  \n",
    "        for j in range(3):\n",
    "            E_theta[j] = np.random.beta(beta[j][0], beta[j][1])\n",
    "        arm = np.argmax(E_theta)\n",
    "        r = np.random.binomial(1, theta[arm]) # reward\n",
    "        beta[arm][0] += r\n",
    "        beta[arm][1] += 1- r\n",
    "        total_r += r\n",
    "        theta[arm] = theta[arm] * 0.9 if theta[arm] * 0.9 >= 0.3 else 0.3\n",
    "        evict = np.random.choice(np.delete(np.array([0, 1, 2]), arm))\n",
    "        theta[evict] = theta[evict] * 1.1 if theta[evict] * 1.1 <= 0.7 else 0.7\n",
    "    return total_r\n",
    "\n",
    "def UCB(n, c) -> int:\n",
    "    theta = np.array([0.65, 0.54, 0.45], dtype=float)  # used to generate rewards\n",
    "    theta_guess = np.array([0, 0, 0], dtype=float)\n",
    "    for i in range(3):\n",
    "        theta_guess[i] = np.random.binomial(1, theta[i])    # initilize the thetas\n",
    "    count = np.array([1, 1, 1], dtype=int)\n",
    "    total_r = 0 \n",
    "    for t in range(4, n+1):\n",
    "        # arm is the I(t)\n",
    "        arm = np.argmax(theta_guess + c * np.sqrt(2 * np.log(t) / count))\n",
    "        count[arm] += 1\n",
    "        r = np.random.binomial(1, theta[arm])   # reward\n",
    "        theta_guess[arm] += 1 / count[arm] * (r - theta_guess[arm])\n",
    "        total_r += r\n",
    "        theta[arm] = theta[arm] * 0.9 if theta[arm] * 0.9 >= 0.3 else 0.3\n",
    "        evict = np.random.choice(np.delete(np.array([0, 1, 2]), arm))\n",
    "        theta[evict] = theta[evict] * 1.1 if theta[evict] * 1.1 <= 0.7 else 0.7\n",
    "    return total_r\n",
    "\n",
    "def greedy(n, epsilon) -> int:\n",
    "    theta = np.array([0.7, 0.5, 0.4], dtype=float)   # used to generate rewards\n",
    "    theta_guess = np.array([0, 0, 0], dtype=float)  #initilize the vector we will adjust\n",
    "    count = np.array([0, 0, 0], dtype=int)  #init\n",
    "    total_r = 0   # this the sum of all rewards\n",
    "    for t in range(0, n):\n",
    "        choice = np.random.uniform(0, 1)    # used to choose I(t)\n",
    "        # arm is I(t)\n",
    "        arm = np.argmax(theta_guess) if choice > epsilon else np.random.choice([0, 1, 2])\n",
    "        count[arm] += 1\n",
    "        r = np.random.binomial(1, theta[arm])   # generate the reward\n",
    "        theta_guess[arm] += 1 / count[arm] * (r - theta_guess[arm])\n",
    "        total_r += r\n",
    "        theta[arm] = theta[arm] * 0.9 if theta[arm] * 0.9 >= 0.3 else 0.3\n",
    "        evict = np.random.choice(np.delete(np.array([0, 1, 2]), arm))\n",
    "        theta[evict] = theta[evict] * 1.1 if theta[evict] * 1.1 <= 0.7 else 0.7\n",
    "    return total_r"
   ]
  },
  {
   "cell_type": "code",
   "execution_count": null,
   "metadata": {},
   "outputs": [
    {
     "name": "stdout",
     "output_type": "stream",
     "text": [
      "The averaged total greedy reward with 5000 time slots is 2184.44\n",
      "The averaged total UCB reward with 5000 time slots is 2086.17\n",
      "The averaged total TS reward with 5000 time slots is 2214.04\n",
      "The averaged total real_life reward with 5000 time slots is 2213.18\n"
     ]
    }
   ],
   "source": [
    "r_sum1 = 0\n",
    "r_sum2 = 0\n",
    "r_sum3 = 0\n",
    "r_sum4 = 0\n",
    "a = [1, 1, 1]\n",
    "b = [1, 1, 1]\n",
    "for j in range(100):\n",
    "    r_sum1 += greedy(5000, 0.5)\n",
    "    r_sum2 += UCB(5000, 1)\n",
    "    r_sum3 += TS(5000, a, b)\n",
    "    r_sum4 += real_life(5000, a, b, 0.7)\n",
    "print(\"The averaged total greedy reward with 5000 time slots is {}\" .format(r_sum1 / 100))\n",
    "print(\"The averaged total UCB reward with 5000 time slots is {}\" .format(r_sum2 / 100))\n",
    "print(\"The averaged total TS reward with 5000 time slots is {}\" .format(r_sum3 / 100))\n",
    "print(\"The averaged total real_life reward with 5000 time slots is {}\" .format(r_sum4 / 100))"
   ]
  },
  {
   "attachments": {},
   "cell_type": "markdown",
   "metadata": {},
   "source": [
    "## Part II: Bayesian Bandit Algorithms"
   ]
  },
  {
   "attachments": {},
   "cell_type": "markdown",
   "metadata": {},
   "source": [
    "There are two arms which may be pulled repeatedly in any order.\n",
    "Each pull may result in either a success or a failure.\n",
    "The sequence of successes and failures which results from pulling arm $i$ ($i \\in \\{1, 2\\}$) forms a Bernoulli process with unknown success probability $\\theta_{i}$.\n",
    "A success at the $t^{th}$ pull yields a reward $\\gamma^{t-1}$ ($0 < \\gamma <1$), while an unsuccessful pull yields a zero reward.\n",
    "At time zero, each $\\theta_{i}$ has a Beta prior distribution with two parameters $\\alpha_{i}, \\beta_{i}$ and these distributions are independent for different arms.\n",
    "These prior distributions are updated to posterior distributions as arms are pulled.\n",
    "Since the class of Beta distributions is closed under Bernoulli sampling, posterior distributions are all Beta distributions.\n",
    "How should the arm to pull next in each time slot be chosen to maximize the total expected reward from an infinite sequence of pulls?"
   ]
  },
  {
   "attachments": {},
   "cell_type": "markdown",
   "metadata": {},
   "source": [
    "#### Problem State 2.1\n",
    "1. \tOne intuitive policy suggests that in each time slot we should pull the arm for which the current expected value of $\\theta_{i}$ is the largest.\n",
    "\tThis policy behaves very good in most cases.\n",
    "\tPlease design simulations to check the behavior of this policy."
   ]
  },
  {
   "attachments": {},
   "cell_type": "markdown",
   "metadata": {},
   "source": [
    "#### Solution"
   ]
  },
  {
   "cell_type": "code",
   "execution_count": null,
   "metadata": {},
   "outputs": [
    {
     "name": "stdout",
     "output_type": "stream",
     "text": [
      "When thetas = [0.5, 0.9], r_reward = 0.3:\n",
      " the total reward is 0.8005\n"
     ]
    }
   ],
   "source": [
    "def demo_policy(n, a, b, theta, r_reward) -> tuple[int, np.ndarray]:\n",
    "    beta = np.array([(a[0], b[0]), (a[1], b[1])], dtype=int)\n",
    "    total_r = 0\n",
    "    for t in range(0, n):\n",
    "        # use this vector to store the expectation of beta distributions\n",
    "        E_theta = np.array([0, 0], dtype=float)  \n",
    "        for j in range(2):\n",
    "            E_theta[j] = beta[j][0] / (beta[j][0] + beta[j][1])\n",
    "        arm = np.argmax(E_theta)\n",
    "        r = np.random.binomial(1, theta[arm])\n",
    "        beta[arm][0] += r\n",
    "        beta[arm][1] += 1- r\n",
    "        total_r += r * pow(r_reward,t)\n",
    "    return total_r\n",
    "                \n",
    "                     \n",
    "a = np.array([1, 1])\n",
    "b = np.array([1, 1])\n",
    "total_rs = 0\n",
    "theta = np.array([0.5, 0.9], dtype=float)\n",
    "num_trials = 20\n",
    "r_reward = 0.3\n",
    "\n",
    "for i in range(num_trials):\n",
    "    r = demo_policy(50, a, b, theta, r_reward)\n",
    "    total_rs += r\n",
    "po1_rewards = total_rs / num_trials\n",
    "\n",
    "print(\"When thetas = [0.5, 0.9], r_reward = 0.3:\\n the total reward is {:.4f}\" \n",
    "      .format(po1_rewards))"
   ]
  },
  {
   "attachments": {},
   "cell_type": "markdown",
   "metadata": {},
   "source": [
    "#### Problem State 2.2\n",
    "2. However, such intuitive policy is unfortunately not optimal.\n",
    "\tPlease provide an example to show why such policy is not optimal. "
   ]
  },
  {
   "attachments": {},
   "cell_type": "markdown",
   "metadata": {},
   "source": [
    "#### Solution\n",
    "For example:$$ $$\n",
    " The actual value of $\\theta$ is [0.8, 0.3]. While at the early stage, if most of times pull the second arm, the results are success; and most of times pull the first arm, the result are failure. Then we may get an estimated value of $\\theta$ that is far from the actual value of $\\theta$, like [0.1, 0.9]. So we will choose the second arm based on the estimated value later. If the frequency of success basically follows the true value of $\\theta$, our estimated value will be corrected to tend towards the true value. The proccess of correction might takes a long time, so the price of correction is less success. And when we finally get the estimated value of $\\theta_1$ is bigger than $\\theta_2$, the value of t might be very large, which means a much lower reward per roll that can not cover up the loss before."
   ]
  },
  {
   "attachments": {},
   "cell_type": "markdown",
   "metadata": {},
   "source": [
    "#### Problem State 2.3\n",
    "3. For the expected total reward under an optimal policy, show that the following recurrence equation holds:\n",
    "\n",
    "\\begin{equation*}\n",
    "\t\t\\begin{aligned}\n",
    "\t\t\tR_{1}(\\alpha_{1},\\beta_{1}) \n",
    "\t\t\t= & \\frac{\\alpha_{1}}{\\alpha_{1}+\\beta_{1}} [1+\\gamma R(\\alpha_{1} + 1, \\beta_{1}, \\alpha_{2}, \\beta_{2})] \\\\\n",
    "\t\t\t\t& + \\frac{\\beta_{1}}{\\alpha_{1} + \\beta_{1}} [\\gamma R(\\alpha_{1}, \\beta_{1} + 1, \\alpha_{2}, \\beta_{2})]; \\\\\n",
    "\t\t\tR_{2}(\\alpha_{2}, \\beta_{2}) \n",
    "\t\t\t= & \\frac{\\alpha_{2}}{\\alpha_{2} + \\beta_{2}} [1 + \\gamma R(\\alpha_{1}, \\beta_{1}, \\alpha_{2} + 1, \\beta_{2})] \\\\\n",
    "\t\t\t\t& + \\frac{\\beta_{2}}{\\alpha_{2} + \\beta_{2}} [\\gamma R(\\alpha_{1}, \\beta_{1}, \\alpha_{2}, \\beta_{2} + 1)]; \\\\\n",
    "\t\t\tR(\\alpha_{1}, \\beta_{1}, \\alpha_{2}, \\beta_{2}) \n",
    "\t\t\t= & \\max \\left\\{ R_{1}(\\alpha_{1}, \\beta_{1}), R_{2}(\\alpha_{2}, \\beta_{2}) \\right\\}.\n",
    "\t\t\\end{aligned}  \t\n",
    "\t\\end{equation*}"
   ]
  },
  {
   "attachments": {},
   "cell_type": "markdown",
   "metadata": {},
   "source": [
    "#### Solution"
   ]
  },
  {
   "attachments": {},
   "cell_type": "markdown",
   "metadata": {},
   "source": [
    "R is the total reward we could get under an optical policy, R1 is the total reward we could get if we choose arm 1 on the first roll, and R2 is the total reward we could get if we choose arm 2 on second roll. $$ $$\n",
    "Take R1 as example: $$ $$\n",
    "For $R_{1}(\\alpha_{1},\\beta_{1})$, $\\frac{\\alpha_{1}}{\\alpha_{1}+\\beta_{1}}$ is the estimated value of $\\theta_{1}$ $$ $$\n",
    "If the reuslt of the first roll is success, then the value of $\\alpha$ and $\\beta$ for arm 1 will be updated to $\\alpha+1$ and $\\beta$. We can consider the second roll as a beginning of an infinite sequence of rolls, and its total reward is $R(\\alpha_{1}+1,\\beta_{1},\\alpha_{2},\\beta_{2}).$ $$ $$\n",
    "Suppose that the result of the first roll is A, and A=1 means success.$$ $$\n",
    "Then $R_{1}(\\alpha_{1},\\beta_{1}|A=1)=\\gamma^0+\\gamma R(\\alpha_{1}+1,\\beta_{1},\\alpha_{2},\\beta_{2})=1+\\gamma R(\\alpha_{1}+1,\\beta_{1},\\alpha_{2},\\beta_{2})$ $$ $$\n",
    "Similarly, we can get that $R_{1}(\\alpha_{1},\\beta_{1}|A=0)=0*\\gamma^0+\\gamma R(\\alpha_{1},\\beta_{1}+1,\\alpha_{2},\\beta_{2})=\\gamma R(\\alpha_{1},\\beta_{1}+1,\\alpha_{2},\\beta_{2})$ $$ $$\n",
    "And according to LOTE: $R_{1}(\\alpha_{1},\\beta_{1})\\\\=P(A=1)*R_{1}(\\alpha_{1},\\beta_{1}|A=1)+P(A=0)*R_{1}(\\alpha_{1},\\beta_{1}|A=0)\\\\=\\frac{\\alpha_{1}}{\\alpha_{1}+\\beta_{1}}[1+\\gamma R(\\alpha_{1}+1,\\beta_{1},\\alpha_{2},\\beta_{2})]+\\frac{\\beta_{1}}{\\alpha_{1}+\\beta_{1}}\\gamma R(\\alpha_{1},\\beta_{1}+1,\\alpha_{2},\\beta_{2})$ $$ $$\n",
    "Similary, $R_{2}(\\alpha_{2},\\beta_{2})=\\frac{\\alpha_{2}}{\\alpha_{2}+\\beta_{2}}[1+\\gamma R(\\alpha_{1},\\beta_{1},\\alpha_{2}+1,\\beta_{2})]+\\frac{\\beta_{2}}{\\alpha_{2}+\\beta_{2}}\\gamma R(\\alpha_{1},\\beta_{1},\\alpha_{2},\\beta_{2}+1)$ $$ $$\n",
    "Obviously, the total reward we could get under an optimal policy should be the best one between choosing arm 1 or choosing arm 2 on the first roll.$$ $$\n",
    "So $R(\\alpha_{1}, \\beta_{1}, \\alpha_{2}, \\beta_{2})=\\max \\left\\{ R_{1}(\\alpha_{1}, \\beta_{1}), R_{2}(\\alpha_{2}, \\beta_{2}) \\right\\}.$"
   ]
  },
  {
   "attachments": {},
   "cell_type": "markdown",
   "metadata": {},
   "source": [
    "#### Problem State 2.4\n",
    "4. For the above equations, how to solve it exactly or approximately? "
   ]
  },
  {
   "attachments": {},
   "cell_type": "markdown",
   "metadata": {},
   "source": [
    "#### Solution"
   ]
  },
  {
   "attachments": {},
   "cell_type": "markdown",
   "metadata": {},
   "source": [
    "We use a recursive algorithm. $$ $$\n",
    "In general, we use the above equation. When reaching a certain depth, we assume that it has reached an extreme situation. In this case, R must be the reward for selecting the arm with the largest expected value of $\\theta_{i}$ throughout the entire process."
   ]
  },
  {
   "cell_type": "code",
   "execution_count": null,
   "metadata": {},
   "outputs": [],
   "source": [
    "def expect_rewards(a1, b1, a2, b2, r_reward, r_count):\n",
    "    if r_count > 5:\n",
    "        return max(a1 / (a1 + b1) / (1 - r_reward), a2 / (a2 + b2) / (1 - r_reward))\n",
    "    return max(a1 / (a1 + b1) * (1 + r_reward * expect_rewards(a1 + 1, b1, a2, b2, r_reward, r_count+1))\n",
    "                  + b1 / (a1 + b1) * r_reward * expect_rewards(a1, b1 + 1, a2, b2, r_reward, r_count+1),\n",
    "                  a2 / (a2 + b2) * (1 + r_reward * expect_rewards(a1, b1, a2 + 1, b2, r_reward, r_count+1))\n",
    "                  + b2 / (a2 + b2) * r_reward * expect_rewards(a1, b1, a2, b2 + 1, r_reward, r_count+1))"
   ]
  },
  {
   "attachments": {},
   "cell_type": "markdown",
   "metadata": {},
   "source": [
    "#### Problem State 2.5\n",
    "5. Find the optimal policy."
   ]
  },
  {
   "attachments": {},
   "cell_type": "markdown",
   "metadata": {},
   "source": [
    "#### Soluiton"
   ]
  },
  {
   "attachments": {},
   "cell_type": "markdown",
   "metadata": {},
   "source": [
    "We will modify the initial policy and choose the arm with the highest R value instead of the one with the largest expected value of $\\theta_{i}$"
   ]
  },
  {
   "cell_type": "code",
   "execution_count": null,
   "metadata": {},
   "outputs": [
    {
     "name": "stdout",
     "output_type": "stream",
     "text": [
      "When thetas = [0.5 0.9], r_reward = 0.3:\n",
      " the total reward is 0.9905\n"
     ]
    }
   ],
   "source": [
    "def optimal_policy(n, a, b, theta, r_reward) -> tuple[int, np.ndarray]:\n",
    "    beta = np.array([(a[0], b[0]), (a[1], b[1])], dtype=int)\n",
    "    total_r = 0\n",
    "    for t in range(0, n):\n",
    "        # use this vector to store the expectation of rewards \n",
    "        E_r = np.array([0, 0], dtype=float)  \n",
    "        E_r[0] = ( beta[0][0] / (beta[0][0] + beta[0][1]) * \n",
    "                  (1 + r_reward * \n",
    "                  expect_rewards(beta[0][0] + 1, beta[0][1], beta[1][0], beta[1][1], r_reward, 0)) \n",
    "                  + beta[0][1] / (beta[0][0] + beta[0][1]) * r_reward * \n",
    "                  expect_rewards(beta[0][0], beta[0][1] + 1, beta[1][0], beta[1][1],  r_reward, 0))\n",
    "        E_r[1] = ( beta[1][0] / (beta[1][0] + beta[1][1]) * \n",
    "                  (1 + r_reward * \n",
    "                   expect_rewards(beta[0][0], beta[0][1], beta[1][0] + 1, beta[1][1],  r_reward, 0)) \n",
    "                  + beta[1][1] / (beta[1][0] + beta[1][1]) * r_reward * \n",
    "                  expect_rewards(beta[0][0], beta[0][1], beta[1][0], beta[1][1] + 1,  r_reward, 0))                                         \n",
    "        arm = np.argmax(E_r)\n",
    "        r = np.random.binomial(1, theta[arm])\n",
    "        beta[arm][0] += r\n",
    "        beta[arm][1] += 1- r\n",
    "        total_r += r * pow(r_reward,t)\n",
    "    return total_r\n",
    "                   \n",
    "a = np.array([1, 1])\n",
    "b = np.array([1, 1])\n",
    "total_rs = 0\n",
    "theta = np.array([0.5, 0.9], dtype=float)\n",
    "num_trials = 20\n",
    "r_reward = 0.3\n",
    "\n",
    "for i in range(num_trials):\n",
    "    r = optimal_policy(50, a, b, theta, r_reward)\n",
    "    total_rs += r\n",
    "    \n",
    "op_rewards = total_rs / num_trials\n",
    "\n",
    "print(\"When thetas = [0.5 0.9], r_reward = 0.3:\\n the total reward is {:.4f}\" \n",
    "      .format(op_rewards))"
   ]
  }
 ],
 "metadata": {
  "kernelspec": {
   "display_name": "Python 3 (ipykernel)",
   "language": "python",
   "name": "python3"
  },
  "language_info": {
   "codemirror_mode": {
    "name": "ipython",
    "version": 3
   },
   "file_extension": ".py",
   "mimetype": "text/x-python",
   "name": "python",
   "nbconvert_exporter": "python",
   "pygments_lexer": "ipython3",
   "version": "3.10.11"
  }
 },
 "nbformat": 4,
 "nbformat_minor": 4
}
