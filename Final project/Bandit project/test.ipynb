{
 "cells": [
  {
   "cell_type": "code",
   "execution_count": 3,
   "metadata": {},
   "outputs": [],
   "source": [
    "import math, random\n",
    "import numpy as np\n"
   ]
  },
  {
   "cell_type": "code",
   "execution_count": 230,
   "metadata": {},
   "outputs": [
    {
     "name": "stdout",
     "output_type": "stream",
     "text": [
      "3111\n",
      "[0.7012177  0.51814768 0.4028777 ]\n"
     ]
    }
   ],
   "source": [
    "theta = np.array([0.7, 0.5, 0.4])\n",
    "theta_guess = np.array([0, 0, 0], dtype=float)\n",
    "count = np.array([0, 0, 0])\n",
    "epsilon = 0.\n",
    "r_sum = 0\n",
    "N = 5000\n",
    "for i in range(0, N):\n",
    "    choice = np.random.uniform(0, 1)\n",
    "    It = 0\n",
    "    if (choice > epsilon): # this is for argmax\n",
    "        It = np.argmax(theta_guess)\n",
    "    else:\n",
    "        It = np.random.choice([0,1,2])\n",
    "    count[It] += 1\n",
    "    r = np.random.binomial(1, theta[It])\n",
    "    theta_guess[It] = theta_guess[It] + 1 / count[It] * (r - theta_guess[It]) \n",
    "    r_sum += r\n",
    "print(r_sum)\n",
    "print(theta_guess)"
   ]
  }
 ],
 "metadata": {
  "kernelspec": {
   "display_name": "machine_learning",
   "language": "python",
   "name": "python3"
  },
  "language_info": {
   "codemirror_mode": {
    "name": "ipython",
    "version": 3
   },
   "file_extension": ".py",
   "mimetype": "text/x-python",
   "name": "python",
   "nbconvert_exporter": "python",
   "pygments_lexer": "ipython3",
   "version": "3.10.11"
  },
  "orig_nbformat": 4
 },
 "nbformat": 4,
 "nbformat_minor": 2
}
